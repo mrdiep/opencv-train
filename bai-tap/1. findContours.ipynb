{
 "cells": [
  {
   "cell_type": "code",
   "execution_count": null,
   "metadata": {},
   "outputs": [],
   "source": [
    "import cv2\n",
    "import numpy as np\n",
    "#vẽ hình ảnh lên\n",
    "import matplotlib.pyplot as plt"
   ]
  },
  {
   "cell_type": "code",
   "execution_count": null,
   "metadata": {},
   "outputs": [],
   "source": [
    "img = cv2.imread('shape1.png')"
   ]
  },
  {
   "cell_type": "code",
   "execution_count": null,
   "metadata": {},
   "outputs": [],
   "source": [
    "#chuyển về màu xám để dễ xử lý cho việc tìm cạnh\n",
    "gray = cv2.cvtColor(img, cv2.COLOR_BGR2GRAY)"
   ]
  },
  {
   "cell_type": "code",
   "execution_count": null,
   "metadata": {},
   "outputs": [],
   "source": [
    "plt.imshow(gray, cmap='gray')"
   ]
  },
  {
   "cell_type": "code",
   "execution_count": null,
   "metadata": {},
   "outputs": [],
   "source": [
    "#thường các ảnh bị nhiễu: sẽ làm mờ nó, để bỏ bụi, pixel hư\n",
    "blurred = cv2.GaussianBlur(gray, (5,5), 0)\n",
    "plt.imshow(blurred, cmap='gray')"
   ]
  },
  {
   "cell_type": "code",
   "execution_count": null,
   "metadata": {},
   "outputs": [],
   "source": [
    "#lấy ảnh đen trắng theo ngưỡng 222\n",
    "#print(np.unique(blurred))\n",
    "print(blurred)\n",
    "thresh = cv2.threshold(blurred, 222, 255, cv2.THRESH_BINARY)[1]\n",
    "plt.imshow(thresh, cmap='gray')"
   ]
  },
  {
   "cell_type": "code",
   "execution_count": null,
   "metadata": {},
   "outputs": [],
   "source": [
    "cnts = cv2.findContours(thresh.copy(), cv2.RETR_TREE, cv2.CHAIN_APPROX_SIMPLE)\n",
    "cnts = cnts[0] \n",
    "print(len(cnts))\n",
    "img = cv2.cvtColor(img.copy(), cv2.COLOR_BGR2RGB)\n",
    "for c in cnts:\n",
    "    # moments giúp tìm đặc trưng của hình ảnh: như trung tâm, diện tích, chu vi\n",
    "    M = cv2.moments(c)\n",
    "    cX = int(M[\"m10\"] / M[\"m00\"])\n",
    "    cY = int(M[\"m01\"] / M[\"m00\"])\n",
    "    #print(cX, cY)  #in ra để debug cho dễ\n",
    "    cv2.drawContours(img, [c], -1, (255, 0, 0), 2)\n",
    "    \n",
    "    #vẽ hình tròn ở trung tâm contour tìm được\n",
    "    cv2.circle(img, (cX, cY), 4, (255, 0, 255), -1)\n",
    "plt.imshow(img)"
   ]
  },
  {
   "cell_type": "markdown",
   "metadata": {},
   "source": [
    "Bài tập:\n",
    "- Tìm diện tích hình\n",
    "- Tìm im ra hình đa giá có 4 cạnh trở lên"
   ]
  }
 ],
 "metadata": {
  "kernelspec": {
   "display_name": "Python 3",
   "language": "python",
   "name": "python3"
  },
  "language_info": {
   "codemirror_mode": {
    "name": "ipython",
    "version": 3
   },
   "file_extension": ".py",
   "mimetype": "text/x-python",
   "name": "python",
   "nbconvert_exporter": "python",
   "pygments_lexer": "ipython3",
   "version": "3.8.3"
  }
 },
 "nbformat": 4,
 "nbformat_minor": 4
}

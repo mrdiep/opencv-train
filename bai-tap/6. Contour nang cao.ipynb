{
 "cells": [
  {
   "cell_type": "code",
   "execution_count": null,
   "metadata": {},
   "outputs": [],
   "source": [
    "import cv2\n",
    "import numpy as np\n",
    "#vẽ hình ảnh lên\n",
    "import matplotlib.pyplot as plt"
   ]
  },
  {
   "cell_type": "code",
   "execution_count": null,
   "metadata": {},
   "outputs": [],
   "source": [
    "img = cv2.imread('hand.png')\n",
    "gray = cv2.cvtColor(img, cv2.COLOR_BGR2GRAY)\n",
    "plt.imshow(gray, cmap='gray')"
   ]
  },
  {
   "cell_type": "code",
   "execution_count": null,
   "metadata": {},
   "outputs": [],
   "source": [
    "contours,_ = cv2.findContours(gray, cv2.RETR_TREE, cv2.CHAIN_APPROX_SIMPLE)\n",
    "print(len(contours))\n",
    "\n",
    "sort_contours = []\n",
    "for contour in contours:\n",
    "    area = cv2.contourArea(contour)\n",
    "    sort_contours.append((contour,area))\n",
    "sort_contours.sort(key=lambda x: 0 - x[1])\n",
    "#đến đây thì đã có danh sách contours đã được sắp xếp giảm theo diện tích"
   ]
  },
  {
   "cell_type": "markdown",
   "metadata": {},
   "source": [
    "Tham khảo:\n",
    "https://opencv-python-tutroals.readthedocs.io/en/latest/py_tutorials/py_imgproc/py_contours/py_contours_more_functions/py_contours_more_functions.html\n"
   ]
  },
  {
   "cell_type": "code",
   "execution_count": null,
   "metadata": {},
   "outputs": [],
   "source": [
    "img_2 = cv2.cvtColor(img.copy(), cv2.COLOR_BGR2RGB)\n",
    "\n",
    "hand_contour,area = sort_contours[0]\n",
    "\n",
    "#làm thẳng các điểm\n",
    "points = cv2.approxPolyDP(hand_contour, 55, True)\n",
    "cv2.drawContours(img_2, [points], -1, (255,0,0), 3)\n",
    "\n",
    "\n",
    "#vẽ đường viền bao lớn nhất\n",
    "bounded_hand = cv2.convexHull(hand_contour)\n",
    "#cv2.drawContours(img_2, [bounded_hand], -1, (0,255,0), 3)\n",
    "\n",
    "xxxxx = cv2.convexHull(points, returnPoints = False)\n",
    "defects = cv2.convexityDefects(points, xxxxx)\n",
    "print(defects)\n",
    "for i in range(defects.shape[0]):\n",
    "    s,e,f,d = defects[i,0]\n",
    "    print(s,e,f,d, '\\r\\n')\n",
    "    start = tuple(points[s][0])\n",
    "    end = tuple(points[e][0])\n",
    "    far = tuple(points[f][0])\n",
    "    cv2.line(img_2,start,end,[0,255,0],2)\n",
    "    cv2.circle(img_2,far,5,[0,0,255],-1)\n",
    "    \n",
    "print(img_2.shape)\n",
    "plt.imshow(img_2)\n"
   ]
  },
  {
   "cell_type": "markdown",
   "metadata": {},
   "source": [
    "Hàm convexityDefects biên độ sau khi làm lồi contours.\n",
    "\n",
    "hàm convexityDefects nhận vào contour gốc, và contour lồi (lưu ý phải sử dụng returnPoints = False)\n",
    "Đầu ra là: 1 mảng, mà có mỗi dòng là:\n",
    "vị trí bắt đầu, vị trí kết thúc, vị trí xa nhất, khoảng cách xa nhất tới điểm\n",
    "Vị trí là: index của contour gốc\n",
    "\n",
    "Code:\n",
    "hull = cv2.convexHull(cnt,returnPoints = False)\n",
    "\n",
    "defects = cv2.convexityDefects(cnt,hull)\n",
    "\n",
    "for i in range(defects.shape[0]):\n",
    "\n",
    "    s,e,f,d = defects[i,0]\n",
    "    \n",
    "    start = tuple(cnt[s][0])\n",
    "    \n",
    "    end = tuple(cnt[e][0])\n",
    "    \n",
    "    far = tuple(cnt[f][0])"
   ]
  },
  {
   "cell_type": "code",
   "execution_count": null,
   "metadata": {},
   "outputs": [],
   "source": []
  }
 ],
 "metadata": {
  "kernelspec": {
   "display_name": "Python 3",
   "language": "python",
   "name": "python3"
  },
  "language_info": {
   "codemirror_mode": {
    "name": "ipython",
    "version": 3
   },
   "file_extension": ".py",
   "mimetype": "text/x-python",
   "name": "python",
   "nbconvert_exporter": "python",
   "pygments_lexer": "ipython3",
   "version": "3.8.3"
  }
 },
 "nbformat": 4,
 "nbformat_minor": 4
}

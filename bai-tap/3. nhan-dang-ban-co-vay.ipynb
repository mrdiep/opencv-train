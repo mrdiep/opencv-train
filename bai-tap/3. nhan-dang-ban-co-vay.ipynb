{
 "cells": [
  {
   "cell_type": "code",
   "execution_count": null,
   "metadata": {},
   "outputs": [],
   "source": [
    "import cv2\n",
    "import numpy as np\n",
    "import matplotlib.pyplot as plt\n",
    "%matplotlib inline"
   ]
  },
  {
   "cell_type": "code",
   "execution_count": null,
   "metadata": {},
   "outputs": [],
   "source": [
    "img_o = cv2.imread('co-vay.jpg')\n",
    "rgb = cv2.cvtColor(img_o, cv2.COLOR_BGR2RGB)\n",
    "plt.imshow(rgb)"
   ]
  },
  {
   "cell_type": "code",
   "execution_count": null,
   "metadata": {},
   "outputs": [],
   "source": [
    "gray = cv2.cvtColor(img_o, cv2.COLOR_BGR2GRAY)\n",
    "plt.imshow(gray, cmap='gray')"
   ]
  },
  {
   "cell_type": "code",
   "execution_count": null,
   "metadata": {},
   "outputs": [],
   "source": [
    "thresh = cv2.adaptiveThreshold(gray, 255, cv2.ADAPTIVE_THRESH_MEAN_C,cv2.THRESH_BINARY, 23, 9)\n",
    "plt.imshow(thresh, cmap='gray')"
   ]
  },
  {
   "cell_type": "markdown",
   "metadata": {},
   "source": [
    "Lưu ý: Đọc thêm ở đây\n",
    "https://www.stdio.vn/computer-vision/ky-thuat-grayscale-va-nhi-phan-hoa-anh-adaptive-threshold-Fhjcg\n",
    "\n",
    "Phương thức adaptiveThreshold\n",
    "Để chuyển 1 ảnh thành 1 ảnh nhị phân, sử dụng phương thức adaptiveThreshold()\n",
    "\n",
    "adaptiveThreshold(cv::InputArray src, cv::OutputArray dst, double maxValue,\n",
    "                  int adaptiveMethod, int thresholdType, int blockSize, double C);\n",
    "Phân tích\n",
    "\n",
    "src: hình ảnh gốc (Trong bài viết này là ảnh màu).\n",
    "dst: ảnh thu được (Trong bài viết này là ảnh nhị phân).\n",
    "thresh: ngưỡng nhị phân T.\n",
    "maxValue: giá trị lớn nhất trong ảnh (maxval = 255 đối với ảnh xám).\n",
    "adaptiveMethod: cách thức nhị phân với ngưỡng động, nó chính là cách tính giá trị ngưỡng nhị phân trong từng vùng cần nhị phân.\n",
    "thresholdType: kiểu nhị phân. \n",
    "blockSize: kích thước của cửa sổ (Region) áp dụng cho việc tính toán ngưỡng động (nên chọn các giá trị %3 = 0 || %5 = 0 || %7 = 0).\n",
    "C: thông số để bù trừ trong trường hợp ảnh có độ tương phản quá lớn."
   ]
  },
  {
   "cell_type": "code",
   "execution_count": null,
   "metadata": {},
   "outputs": [],
   "source": [
    "contours, hierarchy = cv2.findContours(thresh, cv2.RETR_TREE,\\\n",
    "                                       cv2.CHAIN_APPROX_SIMPLE)\n",
    "#nhớ kiểu datatype dạng trên tên là tuple: VD: x, y = (1,2)\n",
    "\n",
    "print(len(contours))\n",
    "\n",
    "#sắp xếp sẵn contours theo diện tích\n",
    "sort_contours = []\n",
    "for contour in contours:\n",
    "    area = cv2.contourArea(contour)\n",
    "    sort_contours.append((contour,area))\n",
    "sort_contours.sort(key=lambda x: 0 - x[1])\n",
    "\n",
    "#biến lưu lại giá trị 4 góc của bàn cờ\n",
    "chessboard_point_conners = None\n",
    "ui = cv2.cvtColor(img_o.copy(), cv2.COLOR_BGR2RGB)\n",
    "for contour,_ in sort_contours[0:2]:\n",
    "    M = cv2.moments(contour) #tính đặc trưng của hình ảnh, tìm hiểu thêm\n",
    "    if (M[\"m00\"] == 0): continue\n",
    "    cX = int(M[\"m10\"] / M[\"m00\"])\n",
    "    cY = int(M[\"m01\"] / M[\"m00\"])\n",
    "    center = (cX, cY)\n",
    "\n",
    "    #lấy đường viền bao xung quanh\n",
    "    contour = cv2.convexHull(contour)\n",
    "        \n",
    "    #chu vi của hình\n",
    "    p = cv2.arcLength(contour, True)\n",
    "    #bởi vì viền sẽ không thẳng, mà nó sẽ lệnh 1-2%, nên dùng phép toán approxPolyDP để làm thẳng lại\n",
    "    epsilon = 0.01 * p\n",
    "    points = cv2.approxPolyDP(contour, epsilon, True)\n",
    "    \n",
    "    colorBounded = (np.random.randint(155), np.random.randint(155), np.random.randint(155))\n",
    "    print('number of points = ', len(points))\n",
    "    \n",
    "    if (len(points)) != 4: continue\n",
    "    \n",
    "    #vẽ hình vuông bao quanh contour\n",
    "    #(x,y,w,h) = cv2.boundingRect(contour)\n",
    "    #cv2.rectangle(ui, (x,y), (x+w,y+h), colorBounded, 2)\n",
    "    \n",
    "    cv2.drawContours(ui, [points], -1, colorBounded, 3)\n",
    "    cv2.circle(ui, center, 6, colorBounded, -1)\n",
    "    \n",
    "    \n",
    "    chessboard_point_conners = points\n",
    "    # vì chỉ cần 1 hình thôi, nên break code\n",
    "    break;\n",
    "    \n",
    "plt.imshow(ui, cmap='gray')"
   ]
  },
  {
   "cell_type": "code",
   "execution_count": null,
   "metadata": {},
   "outputs": [],
   "source": [
    "#bước tiếp theo: bỏi hình chữ nhật này hơi méo\n",
    "#nên biến nó thành hình vuông hoàn chỉnh để có thể cắt nó làm 81 miếng hình vuông dễ hơn\n",
    "#từ khóa để tìm kiếm google: Homography \n",
    "print(chessboard_point_conners)\n",
    "#chessboard_point_conners = expand(chessboard_point_conners)\n",
    "map_to = np.array([[[0, 0]], [[360,0]], [[360,360]], [[ 0,360]]])\n",
    "h, mask = cv2.findHomography(chessboard_point_conners, map_to, cv2.RANSAC)\n",
    "\n",
    "print('h=', h)"
   ]
  },
  {
   "cell_type": "code",
   "execution_count": null,
   "metadata": {},
   "outputs": [],
   "source": [
    "#cắt ảnh ở Image thesh theo h,\n",
    "#tạo ảnh ROI từ thresh hoặc bất cứ hình nào\n",
    "roi_chessboard = cv2.warpPerspective(thresh, h, (360, 360))\n",
    "roi_chessboard.shape\n",
    "\n",
    "plt.imshow(roi_chessboard, cmap='gray')"
   ]
  },
  {
   "cell_type": "code",
   "execution_count": null,
   "metadata": {},
   "outputs": [],
   "source": [
    "#bởi vì quân cờ số line 1 đang bị cắt, nên phải mở rộng phạm vi cắt\n",
    "def expand(contour):\n",
    "    M = cv2.moments(contour) #tính đặc trưng của hình ảnh, tìm hiểu thêm\n",
    "    if (M[\"m00\"] == 0): return\n",
    "    cX = int(M[\"m10\"] / M[\"m00\"])\n",
    "    cY = int(M[\"m01\"] / M[\"m00\"])\n",
    "    center = (cX, cY)\n",
    "    \n",
    "    #tính từ tâm\n",
    "    for x in range(len(contour)):\n",
    "        contour[x][0][0] = contour[x][0][0] + (- 20 if contour[x][0][0] < cX else 20)\n",
    "        contour[x][0][1] = contour[x][0][1] + (- 20 if contour[x][0][1] < cX else 20)\n",
    "        "
   ]
  },
  {
   "cell_type": "code",
   "execution_count": null,
   "metadata": {},
   "outputs": [],
   "source": [
    "#giờ dùng numpy để chia ra làm 81 hình bên trong\n",
    "def getImgAt(x_index, y_index):\n",
    "    startX = x_index * 20\n",
    "    startY = y_index * 20\n",
    "    margin = 0\n",
    "    return roi_chessboard[startY + margin:startY + 40 - margin*2, startX + margin:startX + 40 - margin*2]\n",
    "\n",
    "plt.imshow(getImgAt(7,0), cmap='gray')"
   ]
  },
  {
   "cell_type": "markdown",
   "metadata": {},
   "source": [
    "##### Nhận dạng cờ trắng,đen hoặc trống "
   ]
  },
  {
   "cell_type": "code",
   "execution_count": null,
   "metadata": {},
   "outputs": [],
   "source": [
    "def detectChessValue(x,y):\n",
    "    #viết sau\n",
    "    #trả về 0,1, None\n",
    "    return 1; \n",
    "\n",
    "#trả về mảng 2 chiều chess\n",
    "listResult = [[detectChessValue(x,y) for x in range(0,9)] for y in range(0,9)]\n",
    "listResult"
   ]
  },
  {
   "cell_type": "markdown",
   "metadata": {},
   "source": [
    "#### Đọc thêm về các phép xử lý contour:\n",
    "https://docs.opencv.org/3.4/dd/d49/tutorial_py_contour_features.html"
   ]
  },
  {
   "cell_type": "code",
   "execution_count": null,
   "metadata": {},
   "outputs": [],
   "source": []
  }
 ],
 "metadata": {
  "kernelspec": {
   "display_name": "Python 3",
   "language": "python",
   "name": "python3"
  },
  "language_info": {
   "codemirror_mode": {
    "name": "ipython",
    "version": 3
   },
   "file_extension": ".py",
   "mimetype": "text/x-python",
   "name": "python",
   "nbconvert_exporter": "python",
   "pygments_lexer": "ipython3",
   "version": "3.8.3"
  }
 },
 "nbformat": 4,
 "nbformat_minor": 4
}

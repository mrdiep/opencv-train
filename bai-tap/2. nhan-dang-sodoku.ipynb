{
 "cells": [
  {
   "cell_type": "code",
   "execution_count": null,
   "metadata": {},
   "outputs": [],
   "source": [
    "import cv2\n",
    "import numpy as np\n",
    "import matplotlib.pyplot as plt\n",
    "%matplotlib inline"
   ]
  },
  {
   "cell_type": "code",
   "execution_count": null,
   "metadata": {},
   "outputs": [],
   "source": [
    "img = cv2.imread('sodoku.jpg')\n",
    "gray = cv2.cvtColor(img, cv2.COLOR_BGR2GRAY)\n",
    "plt.imshow(gray, cmap='gray')"
   ]
  },
  {
   "cell_type": "code",
   "execution_count": null,
   "metadata": {},
   "outputs": [],
   "source": [
    "#threshValue, thresh2 = cv2.threshold(gray, 110, 255, cv2.THRESH_BINARY)\n",
    "thresh = cv2.adaptiveThreshold(gray, 255, cv2.ADAPTIVE_THRESH_MEAN_C,cv2.THRESH_BINARY,33,22)\n",
    "\n",
    "plt.imshow(thresh, cmap='gray')"
   ]
  },
  {
   "cell_type": "markdown",
   "metadata": {},
   "source": [
    "Lưu ý: Đọc thêm ở đây\n",
    "https://www.stdio.vn/computer-vision/ky-thuat-grayscale-va-nhi-phan-hoa-anh-adaptive-threshold-Fhjcg\n",
    "\n",
    "Phương thức adaptiveThreshold\n",
    "Để chuyển 1 ảnh thành 1 ảnh nhị phân, sử dụng phương thức adaptiveThreshold()\n",
    "\n",
    "adaptiveThreshold(cv::InputArray src, cv::OutputArray dst, double maxValue,\n",
    "                  int adaptiveMethod, int thresholdType, int blockSize, double C);\n",
    "Phân tích\n",
    "\n",
    "src: hình ảnh gốc (Trong bài viết này là ảnh màu).\n",
    "dst: ảnh thu được (Trong bài viết này là ảnh nhị phân).\n",
    "thresh: ngưỡng nhị phân T.\n",
    "maxValue: giá trị lớn nhất trong ảnh (maxval = 255 đối với ảnh xám).\n",
    "adaptiveMethod: cách thức nhị phân với ngưỡng động, nó chính là cách tính giá trị ngưỡng nhị phân trong từng vùng cần nhị phân.\n",
    "thresholdType: kiểu nhị phân. \n",
    "blockSize: kích thước của cửa sổ (Region) áp dụng cho việc tính toán ngưỡng động (nên chọn các giá trị %3 = 0 || %5 = 0 || %7 = 0).\n",
    "C: thông số để bù trừ trong trường hợp ảnh có độ tương phản quá lớn."
   ]
  },
  {
   "cell_type": "code",
   "execution_count": null,
   "metadata": {},
   "outputs": [],
   "source": [
    "contours, hierarchy = cv2.findContours(thresh, cv2.RETR_TREE, cv2.CHAIN_APPROX_SIMPLE)\n",
    "#nhớ kiểu datatype dạng trên tên là tuple: VD: x, y = (1,2) print(x)"
   ]
  },
  {
   "cell_type": "code",
   "execution_count": null,
   "metadata": {},
   "outputs": [],
   "source": [
    "ui = img.copy()\n",
    "print(len(contours))\n",
    "\n",
    "for c in contours:\n",
    "    M = cv2.moments(c) #tính đặc trưng của hình ảnh, tìm hiểu thêm\n",
    "    if (M[\"m00\"] == 0): continue\n",
    "    cX = int(M[\"m10\"] / M[\"m00\"])\n",
    "    cY = int(M[\"m01\"] / M[\"m00\"])\n",
    "    center = (cX, cY)\n",
    "\n",
    "    #chu vi của hình\n",
    "    p = cv2.arcLength(c, True)\n",
    "    \n",
    "    #bởi vì viền sẽ không thẳng, mà nó sẽ lệnh 1-2%, nên dùng phép toán approxPolyDP để làm thẳng lại\n",
    "    epsilon = 0.15 * p\n",
    "    approx = cv2.approxPolyDP(c, epsilon, True)\n",
    "    \n",
    "    if (len(approx)) != 4: continue\n",
    "    # diện tích của hình\n",
    "    area = cv2.contourArea(c)\n",
    "    if area < 10000: continue\n",
    "    main_approx = approx\n",
    "    #print(area, '\\r\\napprox = \\r\\n', approx)\n",
    "    cv2.drawContours(ui, [c], -1, (255, 0, 0), 1)\n",
    "    #vẽ hình tròn ở trung tâm contour tìm được\n",
    "    cv2.circle(ui, center, 6, (255, 0, 255), -1)\n",
    "plt.imshow(ui)"
   ]
  },
  {
   "cell_type": "code",
   "execution_count": null,
   "metadata": {},
   "outputs": [],
   "source": [
    "#đây là tọa độ 4 điểm trên màn hình\n",
    "print(main_approx)\n",
    "type(main_approx)"
   ]
  },
  {
   "cell_type": "code",
   "execution_count": null,
   "metadata": {},
   "outputs": [],
   "source": [
    "#bước tiếp theo: bỏi hình chữ nhật này hơi méo\n",
    "#nên biến nó thành hình vuông hoàn chỉnh để có thể cắt nó làm 81 miếng hình vuông dễ hơn\n",
    "#từ khóa để tìm kiếm google: Homography \n",
    "\n",
    "#giả sử tạo hình vuông 180x180\n",
    "\n",
    "map_to = np.array([[[0, 0]], [[180,0]], [[180,180]], [[ 0,180]]])\n",
    "\n",
    "print('main_approx = ', main_approx, '\\r\\nmap_to=', map_to)\n",
    "\n",
    "h, mask = cv2.findHomography(main_approx, map_to, cv2.RANSAC)\n",
    "\n",
    "print('h=', h)"
   ]
  },
  {
   "cell_type": "code",
   "execution_count": null,
   "metadata": {},
   "outputs": [],
   "source": [
    "im1Reg = cv2.warpPerspective(thresh, h, (180, 180))\n",
    "im1Reg.shape\n",
    "\n",
    "plt.imshow(im1Reg, cmap='gray')"
   ]
  },
  {
   "cell_type": "code",
   "execution_count": null,
   "metadata": {},
   "outputs": [],
   "source": [
    "#giờ dùng numpy để chia ra làm 81 hình bên trong\n",
    "def getImgAt(x_index, y_index):\n",
    "    startX = x_index * 20\n",
    "    startY = y_index * 20\n",
    "    margin = 1\n",
    "    return im1Reg[startY + margin:startY + 20 - margin*2, startX + margin:startX + 20 - margin*2]\n",
    "\n",
    "plt.imshow(getImgAt(2,0), cmap='gray')"
   ]
  },
  {
   "cell_type": "markdown",
   "metadata": {},
   "source": [
    "# bước tiếp theo là nhận dạng từ chữ cái trong vùng trả về,\n",
    "# chưa học thì có thể dùng thư viện bên ngoài để như terrasact"
   ]
  },
  {
   "cell_type": "code",
   "execution_count": null,
   "metadata": {},
   "outputs": [],
   "source": [
    "def detechNumber(img):\n",
    "    #viết sau\n",
    "    return 1;\n",
    "listResult = []\n",
    "for x in range(0,9):\n",
    "  for y in range(0,9):\n",
    "    listResult.push\n"
   ]
  },
  {
   "cell_type": "code",
   "execution_count": null,
   "metadata": {},
   "outputs": [],
   "source": []
  }
 ],
 "metadata": {
  "kernelspec": {
   "display_name": "Python 3",
   "language": "python",
   "name": "python3"
  },
  "language_info": {
   "codemirror_mode": {
    "name": "ipython",
    "version": 3
   },
   "file_extension": ".py",
   "mimetype": "text/x-python",
   "name": "python",
   "nbconvert_exporter": "python",
   "pygments_lexer": "ipython3",
   "version": "3.8.3"
  }
 },
 "nbformat": 4,
 "nbformat_minor": 4
}

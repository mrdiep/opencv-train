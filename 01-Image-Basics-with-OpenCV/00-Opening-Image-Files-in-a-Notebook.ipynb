{
 "cells": [
  {
   "cell_type": "markdown",
   "metadata": {},
   "source": [
    "# Opening Image Files in a Notebook\n",
    "\n",
    "Phần lý thuyết:\n",
    "<br/>\n",
    "https://en.wikipedia.org/wiki/Kernel_(image_processing)\n",
    "\n",
    "https://softwaredevelopmentperestroika.wordpress.com/2014/02/11/image-processing-with-python-numpy-scipy-image-convolution/\n",
    "\n",
    "https://github.com/ashushekar/image-convolution-from-scratch\n"
   ]
  },
  {
   "cell_type": "code",
   "execution_count": null,
   "metadata": {},
   "outputs": [],
   "source": [
    "#import numpy để tính toán matrix\n",
    "import numpy as np\n",
    "\n",
    "#import CV để xử lý hình ảnh, dùng các hàm built-in sẵn\n",
    "import cv2\n",
    "\n",
    "#import thư viện này để vẽ đồ thị, hiện hình lên output\n",
    "import matplotlib.pyplot as plt\n",
    "%matplotlib inline"
   ]
  },
  {
   "cell_type": "code",
   "execution_count": null,
   "metadata": {},
   "outputs": [],
   "source": [
    "#để ý: nếu đọc k thấy file, cv2 sẽ không báo lỗi, mà trả về giá trị None\n",
    "img = cv2.imread(\"some/wrong/path.jpg\")"
   ]
  },
  {
   "cell_type": "code",
   "execution_count": null,
   "metadata": {},
   "outputs": [],
   "source": [
    "# UH OH!!\n",
    "print(img)"
   ]
  },
  {
   "cell_type": "code",
   "execution_count": null,
   "metadata": {},
   "outputs": [],
   "source": [
    "img = cv2.imread('../DATA/00-puppy.jpg')"
   ]
  },
  {
   "cell_type": "code",
   "execution_count": null,
   "metadata": {},
   "outputs": [],
   "source": [
    "type(img)\n",
    "#print(type(v))"
   ]
  },
  {
   "cell_type": "code",
   "execution_count": null,
   "metadata": {},
   "outputs": [],
   "source": [
    "img"
   ]
  },
  {
   "cell_type": "markdown",
   "metadata": {},
   "source": [
    "------------"
   ]
  },
  {
   "cell_type": "code",
   "execution_count": null,
   "metadata": {},
   "outputs": [],
   "source": [
    "img_bgr = cv2.imread('../DATA/00-puppy.jpg')\n",
    "plt.imshow(img_bgr)"
   ]
  },
  {
   "cell_type": "markdown",
   "metadata": {},
   "source": [
    "Giải thích:OpenCV cũng dùng thư viện Numpy để làm tính toán, Do đó, type của hình ảnh là numpy array.\n",
    "Tuy nhiên: Hình ảnh trên này nó đang sử dụng định dạng là: BGR, còn file trong đĩa cứng đang lưu là RGB, do đó mà thấy hình màu tím như trên.\n",
    "\n",
    "để khắc phục điều này, cần chuyển về đúng format là RGB để hình ảnh định dạng chính xác.\n",
    "cv hỗ trợ hàm: cv2.cvtColor()\n",
    "\n",
    "các từ ngữ chuyên môn: Color channel (kênh màu)\n"
   ]
  },
  {
   "cell_type": "code",
   "execution_count": null,
   "metadata": {},
   "outputs": [],
   "source": [
    "img_rgb = cv2.cvtColor(img, cv2.COLOR_BGR2RGB)\n",
    "plt.imshow(img_rgb)"
   ]
  },
  {
   "cell_type": "code",
   "execution_count": null,
   "metadata": {},
   "outputs": [],
   "source": [
    "img_gray = cv2.imread('../DATA/00-puppy.jpg',cv2.IMREAD_GRAYSCALE)\n",
    "plt.imshow(img_gray)"
   ]
  },
  {
   "cell_type": "code",
   "execution_count": null,
   "metadata": {},
   "outputs": [],
   "source": [
    "img_gray = cv2.imread('../DATA/00-puppy.jpg',cv2.IMREAD_GRAYSCALE)\n",
    "print(img_gray)\n",
    "plt.imshow(img_gray,cmap='gray')"
   ]
  },
  {
   "cell_type": "markdown",
   "metadata": {},
   "source": [
    "## Resize Images (Thay đổi kích thước ảnh, hay còn gọi là scale)\n",
    "\n",
    "Trong toán học sẽ được học các thuật toán để resize: https://en.wikipedia.org/wiki/Image_scaling\n",
    "đối với mỗi thuật toán có ưu điểm khác nhau: ví dụ resize lên, xuống có vỡ hình hay không, resize sao mà giữ được chất lượng ảnh.\n",
    "OpenCV cung cấp hàm cơ bản:cv2.resize"
   ]
  },
  {
   "cell_type": "code",
   "execution_count": null,
   "metadata": {},
   "outputs": [],
   "source": [
    "\n",
    "img_rgb.shape\n",
    "# width, height, color channels"
   ]
  },
  {
   "cell_type": "code",
   "execution_count": null,
   "metadata": {},
   "outputs": [],
   "source": [
    "img =cv2.resize(img_rgb,(1300,275))"
   ]
  },
  {
   "cell_type": "code",
   "execution_count": null,
   "metadata": {},
   "outputs": [],
   "source": [
    "plt.imshow(img)"
   ]
  },
  {
   "cell_type": "markdown",
   "metadata": {},
   "source": [
    "### By ratio\n",
    "resize theo tỉ lệ width, heigh"
   ]
  },
  {
   "cell_type": "code",
   "execution_count": null,
   "metadata": {},
   "outputs": [],
   "source": [
    "w_ratio = 0.5\n",
    "h_ratio = 0.5"
   ]
  },
  {
   "cell_type": "code",
   "execution_count": null,
   "metadata": {},
   "outputs": [],
   "source": [
    "new_img =cv2.resize(img_rgb,(0,0),img,w_ratio,h_ratio)"
   ]
  },
  {
   "cell_type": "code",
   "execution_count": null,
   "metadata": {},
   "outputs": [],
   "source": [
    "plt.imshow(new_img)"
   ]
  },
  {
   "cell_type": "code",
   "execution_count": null,
   "metadata": {},
   "outputs": [],
   "source": [
    "%matplotlib qt\n",
    "plt.imshow(new_img)"
   ]
  },
  {
   "cell_type": "markdown",
   "metadata": {},
   "source": [
    "### Flipping Images\n",
    "Phép lật hình\n",
    "OpenCV thì dùng cv2.flip\n",
    "còn Numpty có thể dùng: np.rot90(img)\n"
   ]
  },
  {
   "cell_type": "code",
   "execution_count": null,
   "metadata": {},
   "outputs": [],
   "source": [
    "%matplotlib inline"
   ]
  },
  {
   "cell_type": "code",
   "execution_count": null,
   "metadata": {},
   "outputs": [],
   "source": [
    "# Along central x axis\n",
    "new_img = cv2.flip(new_img,1)\n",
    "plt.imshow(new_img)"
   ]
  },
  {
   "cell_type": "code",
   "execution_count": null,
   "metadata": {},
   "outputs": [],
   "source": [
    "# Along central y axis\n",
    "new_img = cv2.flip(new_img,0)\n",
    "plt.imshow(new_img)"
   ]
  },
  {
   "cell_type": "code",
   "execution_count": null,
   "metadata": {},
   "outputs": [],
   "source": [
    "# Along both axis\n",
    "new_img = cv2.flip(new_img,-1)\n",
    "plt.imshow(new_img)"
   ]
  },
  {
   "cell_type": "markdown",
   "metadata": {},
   "source": [
    "--------"
   ]
  },
  {
   "cell_type": "markdown",
   "metadata": {},
   "source": [
    "# Lưu ra file"
   ]
  },
  {
   "cell_type": "code",
   "execution_count": null,
   "metadata": {},
   "outputs": [],
   "source": [
    "type(new_img)"
   ]
  },
  {
   "cell_type": "code",
   "execution_count": null,
   "metadata": {},
   "outputs": [],
   "source": [
    "#cách nhớ: ngược với im-read là im-write\n",
    "cv2.imwrite('my_new_picture.jpg',new_img)"
   ]
  },
  {
   "cell_type": "code",
   "execution_count": null,
   "metadata": {},
   "outputs": [],
   "source": []
  },
  {
   "cell_type": "markdown",
   "metadata": {},
   "source": [
    "Chú ý kênh màu: BRG hay RGB khi lưu"
   ]
  },
  {
   "cell_type": "markdown",
   "metadata": {},
   "source": [
    "## hiện ảnh lớn trong Notebook"
   ]
  },
  {
   "cell_type": "code",
   "execution_count": null,
   "metadata": {},
   "outputs": [],
   "source": [
    "fig = plt.figure(figsize=(10,8))\n",
    "ax = fig.add_subplot(111)\n",
    "ax.imshow(new_img)"
   ]
  }
 ],
 "metadata": {
  "kernelspec": {
   "display_name": "Python 3",
   "language": "python",
   "name": "python3"
  },
  "language_info": {
   "codemirror_mode": {
    "name": "ipython",
    "version": 3
   },
   "file_extension": ".py",
   "mimetype": "text/x-python",
   "name": "python",
   "nbconvert_exporter": "python",
   "pygments_lexer": "ipython3",
   "version": "3.8.3"
  }
 },
 "nbformat": 4,
 "nbformat_minor": 2
}

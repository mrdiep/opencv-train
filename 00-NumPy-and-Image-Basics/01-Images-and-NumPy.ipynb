{
 "cells": [
  {
   "cell_type": "markdown",
   "metadata": {},
   "source": [
    "# Images and Numpy (Hiểu cơ bản về Numpy và cách tổ chức dữ liệu hình ảnh)\n",
    "\n",
    "Numpy can read in certain files types, this includes images stored as arrays. In this quick lecture, we'll quickly cover how you can work with images in NumPy. **Keep in mind, we will mainly be using OpenCV to open and view images, but later on in the Deep Learning Section we will come back to NumPy and Matplotlib. **\n",
    "\n",
    "Numpy có thể đọc file hình ảnh, lưu nó vào theo dạng array để xử lý, \n",
    "Bởi vì hình ảnh dùng dữ liệu kiểu mảng để lưu, nên ưu tiên dùng Numpy đế làm toán cho nhhanh"
   ]
  },
  {
   "cell_type": "code",
   "execution_count": null,
   "metadata": {},
   "outputs": [],
   "source": [
    "import numpy as np"
   ]
  },
  {
   "cell_type": "code",
   "execution_count": null,
   "metadata": {},
   "outputs": [],
   "source": [
    "#đây thư viện vẽ đồ thị hữu ích cho những người làm việc với Python và NumPy\n",
    "import matplotlib.pyplot as plt\n",
    "# đoạn này để show hình ảnh trong hàng thôi, không có gì\n",
    "%matplotlib inline "
   ]
  },
  {
   "cell_type": "code",
   "execution_count": null,
   "metadata": {},
   "outputs": [],
   "source": [
    "#thư viện này: PIL Python được sử dụng để xử lý hình ảnh\n",
    "#có nhiều cách đọc hình ảnh: OpenCV readim là 1 cách, PIL là 1 cách khác (k phải hoang mang vì có nhiều cách.....)\n",
    "from PIL import Image"
   ]
  },
  {
   "cell_type": "code",
   "execution_count": null,
   "metadata": {},
   "outputs": [],
   "source": [
    "pic = Image.open('../DATA/00-puppy.jpg')"
   ]
  },
  {
   "cell_type": "code",
   "execution_count": null,
   "metadata": {},
   "outputs": [],
   "source": [
    "pic"
   ]
  },
  {
   "cell_type": "code",
   "execution_count": null,
   "metadata": {},
   "outputs": [],
   "source": [
    "type(pic)"
   ]
  },
  {
   "cell_type": "code",
   "execution_count": null,
   "metadata": {},
   "outputs": [],
   "source": [
    "#bản chất của hình ảnh trên là array, do đó có thể ép kiểu sang Nuny để tính toán\n",
    "pic_arr = np.asarray(pic)\n",
    "#xem chiều của ma trận\n",
    "pic_arr.shape "
   ]
  },
  {
   "cell_type": "code",
   "execution_count": null,
   "metadata": {},
   "outputs": [],
   "source": [
    "plt.imshow(pic_arr)"
   ]
  },
  {
   "cell_type": "code",
   "execution_count": null,
   "metadata": {},
   "outputs": [],
   "source": [
    "pic_red = pic_arr.copy()"
   ]
  },
  {
   "cell_type": "code",
   "execution_count": null,
   "metadata": {},
   "outputs": [],
   "source": [
    "0: BGR\n",
    "# set layer màu green và red = 0, bỏ màu sắc này đi\n",
    "pic_red[: , :, 1] = 0    # Zero out contribution from green\n",
    "pic_red[:, :, 2] = 0    # Zero out contribution from blue"
   ]
  },
  {
   "cell_type": "code",
   "execution_count": null,
   "metadata": {},
   "outputs": [],
   "source": [
    "plt.imshow(pic_red)"
   ]
  },
  {
   "cell_type": "markdown",
   "metadata": {},
   "source": [
    "# Xong phần cơ bản"
   ]
  }
 ],
 "metadata": {
  "kernelspec": {
   "display_name": "Python 3",
   "language": "python",
   "name": "python3"
  },
  "language_info": {
   "codemirror_mode": {
    "name": "ipython",
    "version": 3
   },
   "file_extension": ".py",
   "mimetype": "text/x-python",
   "name": "python",
   "nbconvert_exporter": "python",
   "pygments_lexer": "ipython3",
   "version": "3.8.3"
  }
 },
 "nbformat": 4,
 "nbformat_minor": 2
}

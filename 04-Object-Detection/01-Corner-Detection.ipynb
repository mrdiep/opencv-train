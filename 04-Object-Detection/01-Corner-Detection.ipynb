{
 "cells": [
  {
   "cell_type": "markdown",
   "metadata": {},
   "source": [
    "<a href=\"https://www.pieriandata.com\"><img src=\"../DATA/Logo.jpg\"></a>\n",
    "*Copyright by Pierian Data Inc.*"
   ]
  },
  {
   "cell_type": "markdown",
   "metadata": {},
   "source": [
    "# Corner Detection"
   ]
  },
  {
   "cell_type": "markdown",
   "metadata": {},
   "source": [
    "----"
   ]
  },
  {
   "cell_type": "markdown",
   "metadata": {},
   "source": [
    "### The Image Data"
   ]
  },
  {
   "cell_type": "code",
   "execution_count": null,
   "metadata": {},
   "outputs": [],
   "source": [
    "import cv2 \n",
    "import numpy as np  \n",
    "\n",
    "import matplotlib.pyplot as plt\n",
    "%matplotlib inline"
   ]
  },
  {
   "cell_type": "code",
   "execution_count": null,
   "metadata": {},
   "outputs": [],
   "source": [
    "flat_chess = cv2.imread('../DATA/flat_chessboard.png')\n",
    "flat_chess = cv2.cvtColor(flat_chess,cv2.COLOR_BGR2RGB)\n",
    "plt.imshow(flat_chess)"
   ]
  },
  {
   "cell_type": "code",
   "execution_count": null,
   "metadata": {},
   "outputs": [],
   "source": [
    "gray_flat_chess = cv2.cvtColor(flat_chess,cv2.COLOR_BGR2GRAY)\n",
    "plt.imshow(gray_flat_chess,cmap='gray')"
   ]
  },
  {
   "cell_type": "code",
   "execution_count": null,
   "metadata": {},
   "outputs": [],
   "source": [
    "real_chess = cv2.imread('../DATA/real_chessboard.jpg')\n",
    "real_chess = cv2.cvtColor(real_chess,cv2.COLOR_BGR2RGB)\n",
    "plt.imshow(real_chess)"
   ]
  },
  {
   "cell_type": "code",
   "execution_count": null,
   "metadata": {},
   "outputs": [],
   "source": [
    "gray_real_chess = cv2.cvtColor(real_chess,cv2.COLOR_BGR2GRAY)\n",
    "plt.imshow(gray_real_chess,cmap='gray')"
   ]
  },
  {
   "cell_type": "markdown",
   "metadata": {},
   "source": [
    "# Harris Corner Detection"
   ]
  },
  {
   "cell_type": "markdown",
   "metadata": {},
   "source": [
    "**cornerHarris Function**\n",
    "\n",
    "*  src Input single-channel 8-bit or floating-point image.\n",
    "*  dst Image to store the Harris detector responses. It has the type CV_32FC1 and the same size as src .\n",
    "*  blockSize Neighborhood size (see the details on #cornerEigenValsAndVecs ).\n",
    "*  ksize Aperture parameter for the Sobel operator.\n",
    "*  k Harris detector free parameter. See the formula in DocString\n",
    "*  borderType Pixel extrapolation method. See #BorderTypes."
   ]
  },
  {
   "cell_type": "code",
   "execution_count": null,
   "metadata": {},
   "outputs": [],
   "source": [
    "# Convert Gray Scale Image to Float Values\n",
    "gray = np.float32(gray_flat_chess)\n",
    "\n",
    "# Corner Harris Detection\n",
    "dst = cv2.cornerHarris(src=gray,blockSize=2,ksize=3,k=0.04)\n",
    "\n",
    "# result is dilated for marking the corners, not important to actual corner detection\n",
    "# this is just so we can plot out the points on the image shown\n",
    "dst = cv2.dilate(dst,None)\n",
    "\n",
    "# Threshold for an optimal value, it may vary depending on the image.\n",
    "flat_chess[dst>0.01*dst.max()]=[255,0,0]\n",
    "\n",
    "plt.imshow(flat_chess)"
   ]
  },
  {
   "cell_type": "code",
   "execution_count": null,
   "metadata": {},
   "outputs": [],
   "source": [
    "# Convert Gray Scale Image to Float Values\n",
    "gray = np.float32(gray_real_chess)\n",
    "\n",
    "# Corner Harris Detection\n",
    "dst = cv2.cornerHarris(src=gray,blockSize=2,ksize=3,k=0.04)\n",
    "\n",
    "# result is dilated for marking the corners, not important to actual corner detection\n",
    "# this is just so we can plot out the points on the image shown\n",
    "dst = cv2.dilate(dst,None)\n",
    "\n",
    "# Threshold for an optimal value, it may vary depending on the image.\n",
    "real_chess[dst>0.01*dst.max()]=[255,0,0]\n",
    "\n",
    "plt.imshow(real_chess)"
   ]
  },
  {
   "cell_type": "markdown",
   "metadata": {},
   "source": [
    "-----\n",
    "\n",
    "## Shi-Tomasi Corner Detector & Good Features to Track Paper\n",
    "\n",
    "[Link to Paper from Video](http://www.ai.mit.edu/courses/6.891/handouts/shi94good.pdf)\n",
    "\n",
    "goodFeatureToTrack Function Parameters\n",
    "\n",
    "* image Input 8-bit or floating-point 32-bit, single-channel image.\n",
    "* corners Output vector of detected corners.\n",
    "* maxCorners Maximum number of corners to return. If there are more corners than are found,the strongest of them is returned. `maxCorners <= 0` implies that no limit on the maximum is set and all detected corners are returned.\n",
    "* qualityLevel Parameter characterizing the minimal accepted quality of image corners. The parameter value is multiplied by the best corner quality measure, which is the minimal eigenvalue (see #cornerMinEigenVal ) or the Harris function response (see #cornerHarris ). The corners with the quality measure less than the product are rejected. For example, if the best corner has the quality measure = 1500, and the qualityLevel=0.01 , then all the corners with the quality measure less than 15 are rejected."
   ]
  },
  {
   "cell_type": "code",
   "execution_count": null,
   "metadata": {},
   "outputs": [],
   "source": [
    "# Need to reset the images since we drew on them\n",
    "flat_chess = cv2.imread('../DATA/flat_chessboard.png')\n",
    "flat_chess = cv2.cvtColor(flat_chess,cv2.COLOR_BGR2RGB)\n",
    "gray_flat_chess = cv2.cvtColor(flat_chess,cv2.COLOR_BGR2GRAY)"
   ]
  },
  {
   "cell_type": "code",
   "execution_count": null,
   "metadata": {},
   "outputs": [],
   "source": [
    "corners = cv2.goodFeaturesToTrack(gray_flat_chess,5,0.01,10)\n",
    "corners = np.int0(corners)\n",
    "\n",
    "for i in corners:\n",
    "    x,y = i.ravel()\n",
    "    cv2.circle(flat_chess,(x,y),3,255,-1)\n",
    "\n",
    "plt.imshow(flat_chess)"
   ]
  },
  {
   "cell_type": "code",
   "execution_count": null,
   "metadata": {},
   "outputs": [],
   "source": [
    "corners = cv2.goodFeaturesToTrack(gray_flat_chess,64,0.01,10)\n",
    "corners = np.int0(corners)\n",
    "\n",
    "for i in corners:\n",
    "    x,y = i.ravel()\n",
    "    cv2.circle(flat_chess,(x,y),3,255,-1)\n",
    "\n",
    "plt.imshow(flat_chess)"
   ]
  },
  {
   "cell_type": "markdown",
   "metadata": {},
   "source": [
    "-----"
   ]
  },
  {
   "cell_type": "code",
   "execution_count": null,
   "metadata": {},
   "outputs": [],
   "source": [
    "real_chess = cv2.imread('../DATA/real_chessboard.jpg')\n",
    "real_chess = cv2.cvtColor(real_chess,cv2.COLOR_BGR2RGB)\n",
    "gray_real_chess = cv2.cvtColor(real_chess,cv2.COLOR_BGR2GRAY)"
   ]
  },
  {
   "cell_type": "code",
   "execution_count": null,
   "metadata": {},
   "outputs": [],
   "source": [
    "corners = cv2.goodFeaturesToTrack(gray_real_chess,80,0.01,10)\n",
    "corners = np.int0(corners)\n",
    "\n",
    "for i in corners:\n",
    "    x,y = i.ravel()\n",
    "    cv2.circle(real_chess,(x,y),3,255,-1)\n",
    "\n",
    "plt.imshow(real_chess)"
   ]
  },
  {
   "cell_type": "markdown",
   "metadata": {},
   "source": [
    "-----"
   ]
  },
  {
   "cell_type": "code",
   "execution_count": null,
   "metadata": {},
   "outputs": [],
   "source": []
  }
 ],
 "metadata": {
  "kernelspec": {
   "display_name": "Python 3",
   "language": "python",
   "name": "python3"
  },
  "language_info": {
   "codemirror_mode": {
    "name": "ipython",
    "version": 3
   },
   "file_extension": ".py",
   "mimetype": "text/x-python",
   "name": "python",
   "nbconvert_exporter": "python",
   "pygments_lexer": "ipython3",
   "version": "3.6.6"
  }
 },
 "nbformat": 4,
 "nbformat_minor": 2
}

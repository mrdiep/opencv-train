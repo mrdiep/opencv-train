{
 "cells": [
  {
   "cell_type": "markdown",
   "metadata": {},
   "source": [
    "# Contour Detection\n",
    "\n",
    "https://docs.opencv.org/2.4/modules/imgproc/doc/structural_analysis_and_shape_descriptors.html\n",
    "\n",
    "https://docs.opencv.org/master/dd/d49/tutorial_py_contour_features.html\n",
    "https://docs.opencv.org/master/d3/d05/tutorial_py_table_of_contents_contours.html\n",
    "\n",
    "Phân tích hình dạng của hình.\n",
    "\n",
    "##### các hàm cơ bản:\n",
    "\n",
    "cv2.findContours(image, mode, method[, contours[, hierarchy[, offset]]]) → contours, hierarchy\n",
    "\n",
    "\n",
    "cv2.drawContours(image, contours, contourIdx, color[, thickness[, lineType[, hierarchy[, maxLevel[, offset]]]]]) → None  \n",
    "\n",
    "\n",
    "cv2.approxPolyDP(curve, epsilon, closed[, approxCurve]) → approxCurve  \n",
    "\n",
    "\n",
    "cv2.arcLength(curve, closed) → retval  \n",
    "\n",
    "\n",
    "cv2.boundingRect(points) → retval\n",
    "\n",
    "\n",
    "cv2.contourArea(contour[, oriented]) → retval  \n",
    "\n",
    "\n",
    "cv2.convexHull(points[, hull[, clockwise[, returnPoints]]]) → hull  \n",
    "\n",
    "\n",
    "cv2.convexityDefects(contour, convexhull[, convexityDefects]) → convexityDefects  \n",
    "\n",
    "\n",
    "cv2.fitEllipse(points) → retval \n",
    "\n",
    "\n",
    "cv2.fitLine(points, distType, param, reps, aeps[, line]) → line\n",
    "\n",
    "cv2.isContourConvex(contour) → retval\n",
    "\n",
    "cv2.minAreaRect(points) → retval\n",
    "\n",
    "cv2.minEnclosingCircle(points) → center, radius\n",
    "\n",
    "cv2.matchShapes(contour1, contour2, method, parameter) → retval\n",
    "\n",
    "cv2.pointPolygonTest(contour, pt, measureDist) → retval\n",
    "\n",
    "Thuộc tính của contour: Ví dụ như cách tính 4 điểm trên dưới\n",
    "\n",
    "https://docs.opencv.org/master/d1/d32/tutorial_py_contour_properties.html\n",
    "\n"
   ]
  },
  {
   "cell_type": "markdown",
   "metadata": {},
   "source": [
    "## External vs Internal Contours (viền trong vs viền ngoài)\n"
   ]
  },
  {
   "cell_type": "code",
   "execution_count": null,
   "metadata": {},
   "outputs": [],
   "source": [
    "import cv2\n",
    "import numpy as np\n",
    "import matplotlib.pyplot as plt\n",
    "%matplotlib inline"
   ]
  },
  {
   "cell_type": "code",
   "execution_count": null,
   "metadata": {},
   "outputs": [],
   "source": [
    "img = cv2.imread('../DATA/internal_external.png',0)"
   ]
  },
  {
   "cell_type": "code",
   "execution_count": null,
   "metadata": {},
   "outputs": [],
   "source": [
    "img.shape"
   ]
  },
  {
   "cell_type": "code",
   "execution_count": null,
   "metadata": {},
   "outputs": [],
   "source": [
    "plt.imshow(img,cmap='gray')"
   ]
  },
  {
   "cell_type": "markdown",
   "metadata": {},
   "source": [
    "**findContours**\n",
    "\n",
    "function will return back contours in an image, and based on the RETR method called, you can get back external, internal, or both:\n",
    "\n",
    "* cv2.RETR_EXTERNAL:Only extracts external contours\n",
    "* cv2.RETR_CCOMP: Extracts both internal and external contours organized in a two-level hierarchy\n",
    "* cv2.RETR_TREE: Extracts both internal and external contours organized in a  tree graph\n",
    "* cv2.RETR_LIST: Extracts all contours without any internal/external relationship"
   ]
  },
  {
   "cell_type": "code",
   "execution_count": null,
   "metadata": {},
   "outputs": [],
   "source": [
    "contours, hierarchy = cv2.findContours(img, cv2.RETR_CCOMP, cv2.CHAIN_APPROX_SIMPLE)"
   ]
  },
  {
   "cell_type": "code",
   "execution_count": null,
   "metadata": {},
   "outputs": [],
   "source": [
    "type(contours)"
   ]
  },
  {
   "cell_type": "code",
   "execution_count": null,
   "metadata": {},
   "outputs": [],
   "source": [
    "len(contours)"
   ]
  },
  {
   "cell_type": "code",
   "execution_count": null,
   "metadata": {},
   "outputs": [],
   "source": [
    "type(hierarchy)"
   ]
  },
  {
   "cell_type": "code",
   "execution_count": null,
   "metadata": {},
   "outputs": [],
   "source": [
    "hierarchy.shape"
   ]
  },
  {
   "cell_type": "code",
   "execution_count": null,
   "metadata": {},
   "outputs": [],
   "source": [
    "hierarchy"
   ]
  },
  {
   "cell_type": "code",
   "execution_count": null,
   "metadata": {},
   "outputs": [],
   "source": [
    "# Draw External Contours\n",
    "\n",
    "# Set up empty array\n",
    "external_contours = np.zeros(img.shape)\n",
    "\n",
    "# For every entry in contours\n",
    "for i in range(len(contours)):\n",
    "    \n",
    "    # last column in the array is -1 if an external contour (no contours inside of it)\n",
    "    if hierarchy[0][i][3] == -1:\n",
    "        \n",
    "        # We can now draw the external contours from the list of contours\n",
    "        cv2.drawContours(external_contours, contours, i, 255, -1)"
   ]
  },
  {
   "cell_type": "code",
   "execution_count": null,
   "metadata": {},
   "outputs": [],
   "source": [
    "plt.imshow(external_contours,cmap='gray')"
   ]
  },
  {
   "cell_type": "code",
   "execution_count": null,
   "metadata": {},
   "outputs": [],
   "source": [
    "# Create empty array to hold internal contours\n",
    "image_internal = np.zeros(img.shape)\n",
    "\n",
    "# Iterate through list of contour arrays\n",
    "for i in range(len(contours)):\n",
    "    # If third column value is NOT equal to -1 than its internal\n",
    "    if hierarchy[0][i][3] != -1:\n",
    "        # Draw the Contour\n",
    "        print('xxx')\n",
    "        cv2.drawContours(image_internal, contours, i, 255, -1) "
   ]
  },
  {
   "cell_type": "code",
   "execution_count": null,
   "metadata": {},
   "outputs": [],
   "source": [
    "plt.imshow(image_internal,cmap='gray')"
   ]
  },
  {
   "cell_type": "markdown",
   "metadata": {},
   "source": [
    "#### Nâng cao:\n",
    "\n",
    "Suy nghĩ: "
   ]
  },
  {
   "cell_type": "code",
   "execution_count": null,
   "metadata": {},
   "outputs": [],
   "source": []
  },
  {
   "cell_type": "code",
   "execution_count": null,
   "metadata": {},
   "outputs": [],
   "source": []
  }
 ],
 "metadata": {
  "kernelspec": {
   "display_name": "Python 3",
   "language": "python",
   "name": "python3"
  },
  "language_info": {
   "codemirror_mode": {
    "name": "ipython",
    "version": 3
   },
   "file_extension": ".py",
   "mimetype": "text/x-python",
   "name": "python",
   "nbconvert_exporter": "python",
   "pygments_lexer": "ipython3",
   "version": "3.8.3"
  }
 },
 "nbformat": 4,
 "nbformat_minor": 2
}

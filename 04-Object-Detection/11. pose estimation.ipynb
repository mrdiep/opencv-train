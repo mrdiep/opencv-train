{
 "cells": [
  {
   "cell_type": "markdown",
   "metadata": {},
   "source": [
    "SAMPLE\n",
    "https://www.learnopencv.com/head-pose-estimation-using-opencv-and-dlib/\n",
    "\n",
    "Có thể hiểu: Pose là mối tương quan giữa hình 2D với camera 3D. Để dễ nhớ: tìm trục z của bức hình 3D\n",
    "\n",
    "các hàm cơ bản:  \n",
    "`(success, rotation_vector, translation_vector) = cv2.solvePnP(model_points, image_points, camera_matrix, dist_coeffs, flags=cv2.CV_ITERATIVE)  `\n"
   ]
  },
  {
   "cell_type": "code",
   "execution_count": null,
   "metadata": {},
   "outputs": [],
   "source": [
    "#!/usr/bin/env python\n",
    "\n",
    "import cv2\n",
    "import numpy as np\n",
    "import matplotlib.pyplot as plt\n",
    "%matplotlib inline"
   ]
  },
  {
   "cell_type": "code",
   "execution_count": null,
   "metadata": {},
   "outputs": [],
   "source": [
    "# Read Image\n",
    "im = cv2.imread(\"headPose.jpg\");\n",
    "size = im.shape"
   ]
  },
  {
   "cell_type": "markdown",
   "metadata": {},
   "source": [
    "Bước tiếp theo tiến hành mapping giữa 2D với 3D"
   ]
  },
  {
   "cell_type": "code",
   "execution_count": null,
   "metadata": {},
   "outputs": [],
   "source": [
    "#Đây là tọa độ trên mặt: nếu ảnh khác thì thay đổi số khác, đây chỉ là ví dụ demo\n",
    "image_points = np.array([\n",
    "                            (359, 391),     # Nose tip\n",
    "                            (399, 561),     # Chin\n",
    "                            (337, 297),     # Left eye left corner\n",
    "                            (513, 301),     # Right eye right corne\n",
    "                            (345, 465),     # Left Mouth corner\n",
    "                            (453, 469)      # Right mouth corner\n",
    "                        ], dtype=\"double\")\n",
    "\n",
    "# 3D model points.\n",
    "model_points = np.array([\n",
    "                            (0.0, 0.0, 0.0),             # Nose tip\n",
    "                            (0.0, -330.0, -65.0),        # Chin\n",
    "                            (-225.0, 170.0, -135.0),     # Left eye left corner\n",
    "                            (225.0, 170.0, -135.0),      # Right eye right corne\n",
    "                            (-150.0, -150.0, -125.0),    # Left Mouth corner\n",
    "                            (150.0, -150.0, -125.0)      # Right mouth corner\n",
    "                        ])"
   ]
  },
  {
   "cell_type": "code",
   "execution_count": null,
   "metadata": {},
   "outputs": [],
   "source": [
    "# Tạo 1 camera giả\n",
    "focal_length = size[1]\n",
    "center = (size[1]/2, size[0]/2)\n",
    "camera_matrix = np.array([\n",
    "                            [focal_length, 0, center[0]],\n",
    "                            [0, focal_length, center[1]],\n",
    "                            [0, 0, 1]\n",
    "                         ], dtype = \"double\"\n",
    "                         )\n",
    "\n",
    "print(\"Camera Matrix :\\n {0}\".format(camera_matrix))"
   ]
  },
  {
   "cell_type": "code",
   "execution_count": null,
   "metadata": {},
   "outputs": [],
   "source": [
    "# ma trận này dùng để giả định rằng hình ảnh không bị méo giống ảnh chụp từ ống kính góc rộng\n",
    "dist_coeffs = np.zeros((4,1)) \n",
    "\n",
    "success, rotation_vector, translation_vector = cv2.solvePnP(\n",
    "    model_points,\n",
    "    image_points,\n",
    "    camera_matrix,\n",
    "    dist_coeffs,\n",
    "    flags=cv2.SOLVEPNP_ITERATIVE)\n",
    "\n",
    "print(\"(Vector quay) Rotation Vector:\\n {0}\".format(rotation_vector))\n",
    "print(\"(Vector dịch chuyển) Translation Vector:\\n {0}\".format(translation_vector))"
   ]
  },
  {
   "cell_type": "code",
   "execution_count": null,
   "metadata": {},
   "outputs": [],
   "source": [
    "#hàm này đơn giản là lấy tọa độ 2D theo kết quả góc quay và phép dịch, để vẽ ra màn hình\n",
    "nose_end_point2D, _ = cv2.projectPoints(\n",
    "    np.array([(0.0, 0.0, 1000.0)]),\n",
    "    rotation_vector,\n",
    "    translation_vector,\n",
    "    camera_matrix,\n",
    "    dist_coeffs)\n",
    "\n",
    "for p in image_points:\n",
    "    cv2.circle(im, (int(p[0]), int(p[1])), 3, (0,0,255), -1)\n",
    "\n",
    "\n",
    "p1 = ( int(image_points[0][0]), int(image_points[0][1]))\n",
    "p2 = ( int(nose_end_point2D[0][0][0]), int(nose_end_point2D[0][0][1]))\n",
    "\n",
    "cv2.line(im, p1, p2, (255,0,0), 2)\n",
    "plt.imshow(cv2.cvtColor(im, cv2.COLOR_BGR2RGB))"
   ]
  },
  {
   "cell_type": "markdown",
   "metadata": {},
   "source": [
    "nâng cao: Dùng thư viện dlib để xác định tọa độ mắt, mũi, miệng\n",
    "keywork google: facial landmark detection\n"
   ]
  }
 ],
 "metadata": {
  "kernelspec": {
   "display_name": "Python 3",
   "language": "python",
   "name": "python3"
  },
  "language_info": {
   "codemirror_mode": {
    "name": "ipython",
    "version": 3
   },
   "file_extension": ".py",
   "mimetype": "text/x-python",
   "name": "python",
   "nbconvert_exporter": "python",
   "pygments_lexer": "ipython3",
   "version": "3.8.3"
  }
 },
 "nbformat": 4,
 "nbformat_minor": 4
}

{
 "cells": [
  {
   "cell_type": "markdown",
   "metadata": {},
   "source": [
    "Kết nối tới camera:\n",
    "\n",
    "jupytor notebook k hỗ trợ nên phải chạy bên ngoài bằng window"
   ]
  },
  {
   "cell_type": "code",
   "execution_count": null,
   "metadata": {},
   "outputs": [],
   "source": [
    "import cv2\n",
    "\n",
    "\n",
    "# kết nối tới camera\n",
    "cap = cv2.VideoCapture(0)\n",
    "\n",
    "\n",
    "#hàm lấy size video\n",
    "width = int(cap.get(cv2.CAP_PROP_FRAME_WIDTH))\n",
    "height = int(cap.get(cv2.CAP_PROP_FRAME_HEIGHT))\n",
    "\n",
    "while True:\n",
    "    \n",
    "    # đọc camera và gán vào frame\n",
    "    #frame chính là mảng numpy 3 kênh màu BGR\n",
    "    ret, frame = cap.read()\n",
    "\n",
    "    # Giờ tính như bình thường, ở các bài học trước\n",
    "    gray = cv2.cvtColor(frame, cv2.COLOR_BGR2GRAY)\n",
    "\n",
    "    # Vẽ hình ảnh lên trên cửa sổ window có tên là frame\n",
    "    cv2.imshow('frame',gray)\n",
    "    \n",
    "    #nhấn q để thoát vòng lặng\n",
    "    if cv2.waitKey(1) & 0xFF == ord('q'):\n",
    "        break\n",
    "\n",
    "# When everything done, release the capture and destroy the windows\n",
    "cap.release()\n",
    "cv2.destroyAllWindows()"
   ]
  },
  {
   "cell_type": "markdown",
   "metadata": {},
   "source": [
    "## Ghi ra file\n",
    "\n",
    "Những file này đọc data theo từng dòng dữ liêu (tên thường gọi của dữ liệu được xử lý theo đoạn là stream)\n",
    "\n",
    "Ví dụ: Live-stream.\n",
    "Trong các ngôn ngữ hay đặt tên class là: FileStream, thể hiện là file này được đọc từng đoạn 1, chứ k cần load lên hết để xử lý."
   ]
  },
  {
   "cell_type": "markdown",
   "metadata": {},
   "source": [
    "\n",
    "### Notebook Users:  Make sure its all in the same cell!"
   ]
  },
  {
   "cell_type": "markdown",
   "metadata": {},
   "source": [
    "Video chính là các hình ảnh chạy 24 (hoặc n) hình / giây,\n",
    "khi lưu xuống đĩa cứng sẽ k lưu là hình ảnh, sẽ rất tốn bộ nhớ, do đó, mỗi frame hoặc 1 dải frame sẽ được xử lý lại (từ chuyên nghành gọi là video codec)\n",
    "sau đó mới được nối vào...(hiểu sơ cơ bản là vậy trước đã)\n",
    "\n",
    "Thì thư viện để làm \"video codec\" khá nhiều, trong bài này dùng thư viện là FourCC\n",
    "\n",
    "FourCC is a 4-byte code used to specify the video codec. The list of available codes can be found in fourcc.org. It is platform dependent. \n",
    "\n",
    "MORE INFO ON CODECS: https://docs.opencv.org/3.0-beta/doc/py_tutorials/py_gui/py_video_display/py_video_display.html#saving-a-video"
   ]
  },
  {
   "cell_type": "code",
   "execution_count": null,
   "metadata": {},
   "outputs": [],
   "source": [
    "import cv2\n",
    "\n",
    "cap = cv2.VideoCapture(0)\n",
    "\n",
    "width = int(cap.get(cv2.CAP_PROP_FRAME_WIDTH))\n",
    "height = int(cap.get(cv2.CAP_PROP_FRAME_HEIGHT))\n",
    "\n",
    "#khai báo biến Lưu xuông file với format là vidx nhờ sử dụng bộ encoder fourcc\n",
    "writer = cv2.VideoWriter('../DATA/student_capture.mp4', cv2.VideoWriter_fourcc(*'XVID'),25, (width, height))\n",
    "\n",
    "while True:\n",
    "    # Capture frame-by-frame\n",
    "    ret, frame = cap.read()\n",
    "\n",
    "    # mỗi khi write, hoặc khi đầy buffer thì sẽ đẩy xuống file vật lý\n",
    "    writer.write(frame)\n",
    "\n",
    "    # Display the resulting frame\n",
    "    cv2.imshow('frame',frame)\n",
    "    \n",
    "    # This command let's us quit with the \"q\" button on a keyboard.\n",
    "    # Simply pressing X on the window won't work!\n",
    "    if cv2.waitKey(1) & 0xFF == ord('q'):\n",
    "        break\n",
    "\n",
    "        \n",
    "cap.release()\n",
    "writer.release()\n",
    "cv2.destroyAllWindows()"
   ]
  }
 ],
 "metadata": {
  "kernelspec": {
   "display_name": "Python 3",
   "language": "python",
   "name": "python3"
  },
  "language_info": {
   "codemirror_mode": {
    "name": "ipython",
    "version": 3
   },
   "file_extension": ".py",
   "mimetype": "text/x-python",
   "name": "python",
   "nbconvert_exporter": "python",
   "pygments_lexer": "ipython3",
   "version": "3.8.3"
  }
 },
 "nbformat": 4,
 "nbformat_minor": 2
}
